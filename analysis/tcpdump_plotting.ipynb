{
 "cells": [
  {
   "cell_type": "code",
   "execution_count": 1,
   "metadata": {},
   "outputs": [],
   "source": [
    "import os"
   ]
  },
  {
   "cell_type": "code",
   "execution_count": 2,
   "metadata": {},
   "outputs": [],
   "source": [
    "DPI=300\n",
    "root_directory = os.path.dirname(\"../\")\n",
    "logs_directory = os.path.join(root_directory, \"logs\")\n",
    "expirements_logs = os.path.abspath(os.path.join(logs_directory, \"logs_2024-03-19T13:42:05\"))"
   ]
  },
  {
   "cell_type": "code",
   "execution_count": 3,
   "metadata": {},
   "outputs": [
    {
     "name": "stdout",
     "output_type": "stream",
     "text": [
      "reading from file /home/vany/Desktop/school/2023_2024/thesis/master_thesis_utilies/logs/logs_2024-03-19T13:42:05/quic_quic/goodput/1/sim/trace.pcap, link-type LINUX_SLL2 (Linux cooked v2), snapshot length 96\n",
      "Warning: interface names might be incorrect\n"
     ]
    }
   ],
   "source": [
    "!python3 pcap_path_distribution.py -p {expirements_logs}/quic_quic/goodput/1/sim/trace.pcap -d $(pwd)"
   ]
  }
 ],
 "metadata": {
  "kernelspec": {
   "display_name": "Python 3",
   "language": "python",
   "name": "python3"
  },
  "language_info": {
   "codemirror_mode": {
    "name": "ipython",
    "version": 3
   },
   "file_extension": ".py",
   "mimetype": "text/x-python",
   "name": "python",
   "nbconvert_exporter": "python",
   "pygments_lexer": "ipython3",
   "version": "3.10.12"
  }
 },
 "nbformat": 4,
 "nbformat_minor": 2
}
